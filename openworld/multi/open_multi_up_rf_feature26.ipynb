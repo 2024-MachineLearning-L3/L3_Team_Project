{
 "cells": [
  {
   "cell_type": "markdown",
   "metadata": {},
   "source": [
    "## 1. Data Load"
   ]
  },
  {
   "cell_type": "code",
   "execution_count": 16,
   "metadata": {},
   "outputs": [
    {
     "name": "stdout",
     "output_type": "stream",
     "text": [
      "Data has been successfully loaded.\n"
     ]
    }
   ],
   "source": [
    "import pickle\n",
    "\n",
    "with open(\"mon_standard.pkl\", 'rb') as fi:\n",
    "    mon_data = pickle.load(fi)\n",
    "    \n",
    "\n",
    "with open(\"unmon_standard10_3000.pkl\", 'rb') as fi:\n",
    "    unmon_data = pickle.load(fi)\n",
    "    \n",
    "print(\"Data has been successfully loaded.\")"
   ]
  },
  {
   "cell_type": "markdown",
   "metadata": {},
   "source": [
    "## 4. Data split and downsampling"
   ]
  },
  {
   "cell_type": "markdown",
   "metadata": {},
   "source": [
    "## 2. Data Preprocess"
   ]
  },
  {
   "cell_type": "code",
   "execution_count": 17,
   "metadata": {},
   "outputs": [],
   "source": [
    "# Monitored 데이터 처리 함수\n",
    "def process_monitored(data, total_urls=950, use_sublabel=False, url_per_site=10):\n",
    "    X1, X2, y = [], [], []\n",
    "    for i in range(total_urls):\n",
    "        label = i if use_sublabel else i // url_per_site\n",
    "        for sample in data[i]:\n",
    "            size_seq = []\n",
    "            time_seq = []\n",
    "            for c in sample:\n",
    "                dr = 1 if c > 0 else -1\n",
    "                time_seq.append(abs(c))\n",
    "                size_seq.append(dr * 512)\n",
    "            X1.append(time_seq)\n",
    "            X2.append(size_seq)\n",
    "            y.append(label)\n",
    "    return X1, X2, y\n",
    "\n",
    "# Unmonitored 데이터 처리 함수\n",
    "def process_unmonitored(data, total_urls=3000):\n",
    "    X1, X2 = [], []\n",
    "    for i in range(total_urls):\n",
    "        size_seq = []\n",
    "        time_seq = []\n",
    "        for c in data[i]:\n",
    "            dr = 1 if c > 0 else -1\n",
    "            time_seq.append(abs(c))\n",
    "            size_seq.append(dr * 512)\n",
    "        X1.append(time_seq)\n",
    "        X2.append(size_seq)\n",
    "    y = [-1] * len(X1)  # Unmonitored 데이터는 -1로 라벨링\n",
    "    return X1, X2, y\n",
    "\n",
    "# Monitored 데이터 처리\n",
    "X1_mon, X2_mon, y_mon = process_monitored(\n",
    "    mon_data, total_urls=950, use_sublabel=False, url_per_site=10\n",
    ")\n",
    "\n",
    "# Unmonitored 데이터 처리\n",
    "X1_unmon, X2_unmon, y_unmon = process_unmonitored(\n",
    "    unmon_data, total_urls=3000\n",
    ")\n",
    "\n",
    "# 데이터 결합\n",
    "X1 = X1_mon + X1_unmon\n",
    "X2 = X2_mon + X2_unmon\n",
    "y = y_mon + y_unmon"
   ]
  },
  {
   "cell_type": "markdown",
   "metadata": {},
   "source": [
    "## 3. Feature Extraction"
   ]
  },
  {
   "cell_type": "code",
   "execution_count": 18,
   "metadata": {},
   "outputs": [],
   "source": [
    "import numpy as np\n",
    "from itertools import groupby\n",
    "\n",
    "# Initialize a list to store all features\n",
    "features = []\n",
    "\n",
    "# Feature extraction\n",
    "for i in range(len(X2)):\n",
    "    size_seq = X2[i]\n",
    "    time_seq = X1[i]\n",
    "    \n",
    "    # 1. Number of incoming packets\n",
    "    num_incoming_packets = sum(1 for size in size_seq if size < 0)\n",
    "    \n",
    "    # 2. Total number of packets\n",
    "    num_total_packets = len(size_seq)\n",
    "    \n",
    "    # 3. Number of outgoing packets\n",
    "    num_outgoing_packets = sum(1 for size in size_seq if size > 0)\n",
    "    \n",
    "    # 4. Proportion of outgoing packets\n",
    "    ratio_outgoing = num_outgoing_packets / num_total_packets if num_total_packets > 0 else 0\n",
    "    \n",
    "    # 5. Proportion of incoming packets\n",
    "    ratio_incoming = num_incoming_packets / num_total_packets if num_total_packets > 0 else 0\n",
    "    \n",
    "    # 6. Proportion of incoming packets in the first 30 packets\n",
    "    incoming_first_30 = sum(1 for size in size_seq[:30] if size < 0) / 30 if num_total_packets >= 30 else 0\n",
    "    \n",
    "    # 7. Proportion of outgoing packets in the first 30 packets\n",
    "    outgoing_first_30 = sum(1 for size in size_seq[:30] if size > 0) / 30 if num_total_packets >= 30 else 0\n",
    "    \n",
    "    # 8. Maximum number of packets in outgoing bursts\n",
    "    burst_outgoing_max = max(len(list(g)) for k, g in groupby(size_seq) if k > 0) if num_outgoing_packets > 0 else 0\n",
    "    \n",
    "    # 9. Standard deviation of outgoing burst sizes\n",
    "    outgoing_burst_std = np.std([len(list(g)) for k, g in groupby(size_seq) if k > 0])\n",
    "    \n",
    "    # 10. Average size of outgoing bursts\n",
    "    outgoing_burst_avg = np.mean([len(list(g)) for k, g in groupby(size_seq) if k > 0])\n",
    "    \n",
    "    # 11. Number of outgoing bursts\n",
    "    num_outgoing_bursts = len([1 for k, g in groupby(size_seq) if k > 0])\n",
    "    \n",
    "    # 12. Number of incoming bursts\n",
    "    num_incoming_bursts = len([1 for k, g in groupby(size_seq) if k < 0])\n",
    "    \n",
    "    # 13. Average number of incoming packets per second\n",
    "    incoming_per_second_avg = num_incoming_packets / (len(time_seq) / 60) if len(time_seq) > 0 else 0\n",
    "\n",
    "    # 14. Total transmission time\n",
    "    total_time = sum(time_seq)\n",
    "\n",
    "    # 15. Average time interval in the last 5 seconds\n",
    "    last_5_seconds_time_intervals = np.mean([time_seq[i+1] - time_seq[i] for i in range(len(time_seq)-1) if time_seq[i] > 0]) if len(time_seq) > 1 else 0\n",
    "    \n",
    "    # 16. Sum of packet sizes\n",
    "    sum_packets = sum(size_seq)\n",
    "    \n",
    "    # 17. Packets per second\n",
    "    packets_per_second = len(size_seq) / sum(time_seq) if sum(time_seq) > 0 else 0\n",
    "    \n",
    "    # 18. Mean packets per second\n",
    "    packets_per_second_values = [1 / t for t in time_seq if t > 0]\n",
    "    \n",
    "    # 19. mean of the packets per second values\n",
    "    mean_packets_per_second = np.mean(packets_per_second_values) if packets_per_second_values else 0\n",
    "    \n",
    "    # 20. Standard deviation of packets per second\n",
    "    std_packets_per_second = np.std(packets_per_second_values) if packets_per_second_values else 0\n",
    "    \n",
    "    # 21. Transmission time Q1 (25th percentile)\n",
    "    transmission_time_Q1 = np.percentile(time_seq, 25) if len(time_seq) > 0 else 0\n",
    "    \n",
    "    # 22. Transmission time Q2 (median)\n",
    "    transmission_time_Q2 = np.percentile(time_seq, 50) if len(time_seq) > 0 else 0\n",
    "    \n",
    "    # 23. Transmission time Q3 (75th percentile)\n",
    "    transmission_time_Q3 = np.percentile(time_seq, 75) if len(time_seq) > 0 else 0\n",
    "    \n",
    "    # 24. Transmission time Q4 (maximum)\n",
    "    transmission_time_Q4 = np.percentile(time_seq, 100) if len(time_seq) > 0 else 0\n",
    "    \n",
    "    # 25. Average ordering of outgoing packets\n",
    "    outgoing_order = [i for i, size in enumerate(size_seq) if size > 0]\n",
    "    average_outgoing_ordering = np.mean(outgoing_order) if outgoing_order else 0\n",
    "    \n",
    "    # 26. Standard deviation of outgoing packet ordering\n",
    "    std_dev_outgoing_ordering = np.std(outgoing_order) if outgoing_order else 0\n",
    "    \n",
    "    # Add all features to the list\n",
    "    features.append([\n",
    "        num_incoming_packets, num_total_packets, num_outgoing_packets, ratio_outgoing,\n",
    "        ratio_incoming, incoming_first_30, outgoing_first_30, burst_outgoing_max,\n",
    "        outgoing_burst_std, outgoing_burst_avg, num_outgoing_bursts,\n",
    "        num_incoming_bursts, incoming_per_second_avg,  total_time,\n",
    "        last_5_seconds_time_intervals, \n",
    "        sum_packets, packets_per_second, mean_packets_per_second, std_packets_per_second,\n",
    "        transmission_time_Q1, transmission_time_Q2, transmission_time_Q3, transmission_time_Q4,\n",
    "        average_outgoing_ordering, std_dev_outgoing_ordering\n",
    "    ])\n",
    "\n",
    "# Convert the feature list to a numpy array\n",
    "features = np.array(features)\n",
    "\n",
    "# Labels for each sample\n",
    "y = np.array(y)"
   ]
  },
  {
   "cell_type": "markdown",
   "metadata": {},
   "source": [
    "## 4. Data split and downsampling"
   ]
  },
  {
   "cell_type": "code",
   "execution_count": 19,
   "metadata": {},
   "outputs": [],
   "source": [
    "# conda install -c conda-forge scikit-learn imbalanced-learn\n"
   ]
  },
  {
   "cell_type": "code",
   "execution_count": 20,
   "metadata": {},
   "outputs": [
    {
     "name": "stdout",
     "output_type": "stream",
     "text": [
      "Found existing installation: imbalanced-learn 0.10.1\n",
      "Uninstalling imbalanced-learn-0.10.1:\n",
      "  Successfully uninstalled imbalanced-learn-0.10.1\n",
      "Found existing installation: scikit-learn 1.2.2\n",
      "Uninstalling scikit-learn-1.2.2:\n",
      "  Successfully uninstalled scikit-learn-1.2.2\n",
      "Note: you may need to restart the kernel to use updated packages.\n"
     ]
    }
   ],
   "source": [
    "pip uninstall imbalanced-learn scikit-learn -y\n"
   ]
  },
  {
   "cell_type": "code",
   "execution_count": 21,
   "metadata": {},
   "outputs": [
    {
     "name": "stdout",
     "output_type": "stream",
     "text": [
      "\u001b[33mDEPRECATION: Loading egg at /Users/sojeonglee/anaconda3/lib/python3.11/site-packages/dlib-19.24.99-py3.11-macosx-10.9-x86_64.egg is deprecated. pip 25.1 will enforce this behaviour change. A possible replacement is to use pip for package installation. Discussion can be found at https://github.com/pypa/pip/issues/12330\u001b[0m\u001b[33m\n",
      "\u001b[0mCollecting scikit-learn==1.2.2\n",
      "  Using cached scikit_learn-1.2.2-cp311-cp311-macosx_10_9_x86_64.whl.metadata (11 kB)\n",
      "Collecting imbalanced-learn==0.10.1\n",
      "  Using cached imbalanced_learn-0.10.1-py3-none-any.whl.metadata (8.2 kB)\n",
      "Requirement already satisfied: numpy>=1.17.3 in /Users/sojeonglee/anaconda3/lib/python3.11/site-packages (from scikit-learn==1.2.2) (1.26.4)\n",
      "Requirement already satisfied: scipy>=1.3.2 in /Users/sojeonglee/anaconda3/lib/python3.11/site-packages (from scikit-learn==1.2.2) (1.11.1)\n",
      "Requirement already satisfied: joblib>=1.1.1 in /Users/sojeonglee/anaconda3/lib/python3.11/site-packages (from scikit-learn==1.2.2) (1.2.0)\n",
      "Requirement already satisfied: threadpoolctl>=2.0.0 in /Users/sojeonglee/anaconda3/lib/python3.11/site-packages (from scikit-learn==1.2.2) (3.5.0)\n",
      "Using cached scikit_learn-1.2.2-cp311-cp311-macosx_10_9_x86_64.whl (9.0 MB)\n",
      "Using cached imbalanced_learn-0.10.1-py3-none-any.whl (226 kB)\n",
      "Installing collected packages: scikit-learn, imbalanced-learn\n",
      "\u001b[31mERROR: pip's dependency resolver does not currently take into account all the packages that are installed. This behaviour is the source of the following dependency conflicts.\n",
      "mlxtend 0.23.3 requires scikit-learn>=1.3.1, but you have scikit-learn 1.2.2 which is incompatible.\u001b[0m\u001b[31m\n",
      "\u001b[0mSuccessfully installed imbalanced-learn-0.10.1 scikit-learn-1.2.2\n"
     ]
    }
   ],
   "source": [
    "!pip install scikit-learn==1.2.2 imbalanced-learn==0.10.1\n"
   ]
  },
  {
   "cell_type": "code",
   "execution_count": 22,
   "metadata": {},
   "outputs": [
    {
     "name": "stdout",
     "output_type": "stream",
     "text": [
      "Balanced Training Data Distribution:\n",
      "-1     15200\n",
      " 12      160\n",
      " 73      160\n",
      " 67      160\n",
      " 52      160\n",
      "       ...  \n",
      " 82      160\n",
      " 26      160\n",
      " 23      160\n",
      " 31      160\n",
      " 81      160\n",
      "Name: count, Length: 96, dtype: int64\n",
      "Test Data Distribution:\n",
      "-1     600\n",
      " 6      40\n",
      " 20     40\n",
      " 62     40\n",
      " 29     40\n",
      "      ... \n",
      " 75     40\n",
      " 28     40\n",
      " 73     40\n",
      " 34     40\n",
      " 42     40\n",
      "Name: count, Length: 96, dtype: int64\n"
     ]
    },
    {
     "name": "stderr",
     "output_type": "stream",
     "text": [
      "/Users/sojeonglee/anaconda3/lib/python3.11/site-packages/imblearn/utils/_validation.py:313: UserWarning: After over-sampling, the number of samples (15200) in class -1 will be larger than the number of samples in the majority class (class #-1 -> 2400)\n",
      "  warnings.warn(\n"
     ]
    }
   ],
   "source": [
    "from sklearn.model_selection import train_test_split\n",
    "from sklearn.preprocessing import StandardScaler\n",
    "from imblearn.over_sampling import SMOTE\n",
    "import pandas as pd\n",
    "import numpy as np\n",
    "\n",
    "# 데이터 분할 (Train/Test)\n",
    "X_train, X_test, y_train, y_test = train_test_split(features, y, test_size=0.2, random_state=42, stratify=y)\n",
    "\n",
    "# Train 데이터에서 Monitored와 Unmonitored 데이터 분리\n",
    "train_data = pd.DataFrame({\n",
    "    'features': list(X_train),\n",
    "    'label': y_train\n",
    "})\n",
    "train_monitored = train_data[train_data['label'] != -1]\n",
    "train_unmonitored = train_data[train_data['label'] == -1]\n",
    "\n",
    "# SMOTE를 사용하여 업샘플링\n",
    "X_train_list = np.array(train_data['features'].tolist())\n",
    "y_train_array = train_data['label'].values\n",
    "\n",
    "smote = SMOTE(random_state=42, sampling_strategy={-1: 15200})  # Unmonitored를 15200까지 업샘플링\n",
    "X_train_balanced, y_train_balanced = smote.fit_resample(X_train_list, y_train_array)\n",
    "\n",
    "# 데이터 스케일링\n",
    "scaler = StandardScaler()\n",
    "X_train_balanced = scaler.fit_transform(X_train_balanced)\n",
    "X_test = scaler.transform(X_test)\n",
    "\n",
    "# 결과 확인\n",
    "print(\"Balanced Training Data Distribution:\")\n",
    "print(pd.Series(y_train_balanced).value_counts())\n",
    "\n",
    "print(\"Test Data Distribution:\")\n",
    "print(pd.Series(y_test).value_counts())\n"
   ]
  },
  {
   "cell_type": "markdown",
   "metadata": {},
   "source": [
    "## 5. Train the Random Forest model"
   ]
  },
  {
   "cell_type": "code",
   "execution_count": 23,
   "metadata": {},
   "outputs": [
    {
     "data": {
      "text/html": [
       "<style>#sk-container-id-2 {color: black;background-color: white;}#sk-container-id-2 pre{padding: 0;}#sk-container-id-2 div.sk-toggleable {background-color: white;}#sk-container-id-2 label.sk-toggleable__label {cursor: pointer;display: block;width: 100%;margin-bottom: 0;padding: 0.3em;box-sizing: border-box;text-align: center;}#sk-container-id-2 label.sk-toggleable__label-arrow:before {content: \"▸\";float: left;margin-right: 0.25em;color: #696969;}#sk-container-id-2 label.sk-toggleable__label-arrow:hover:before {color: black;}#sk-container-id-2 div.sk-estimator:hover label.sk-toggleable__label-arrow:before {color: black;}#sk-container-id-2 div.sk-toggleable__content {max-height: 0;max-width: 0;overflow: hidden;text-align: left;background-color: #f0f8ff;}#sk-container-id-2 div.sk-toggleable__content pre {margin: 0.2em;color: black;border-radius: 0.25em;background-color: #f0f8ff;}#sk-container-id-2 input.sk-toggleable__control:checked~div.sk-toggleable__content {max-height: 200px;max-width: 100%;overflow: auto;}#sk-container-id-2 input.sk-toggleable__control:checked~label.sk-toggleable__label-arrow:before {content: \"▾\";}#sk-container-id-2 div.sk-estimator input.sk-toggleable__control:checked~label.sk-toggleable__label {background-color: #d4ebff;}#sk-container-id-2 div.sk-label input.sk-toggleable__control:checked~label.sk-toggleable__label {background-color: #d4ebff;}#sk-container-id-2 input.sk-hidden--visually {border: 0;clip: rect(1px 1px 1px 1px);clip: rect(1px, 1px, 1px, 1px);height: 1px;margin: -1px;overflow: hidden;padding: 0;position: absolute;width: 1px;}#sk-container-id-2 div.sk-estimator {font-family: monospace;background-color: #f0f8ff;border: 1px dotted black;border-radius: 0.25em;box-sizing: border-box;margin-bottom: 0.5em;}#sk-container-id-2 div.sk-estimator:hover {background-color: #d4ebff;}#sk-container-id-2 div.sk-parallel-item::after {content: \"\";width: 100%;border-bottom: 1px solid gray;flex-grow: 1;}#sk-container-id-2 div.sk-label:hover label.sk-toggleable__label {background-color: #d4ebff;}#sk-container-id-2 div.sk-serial::before {content: \"\";position: absolute;border-left: 1px solid gray;box-sizing: border-box;top: 0;bottom: 0;left: 50%;z-index: 0;}#sk-container-id-2 div.sk-serial {display: flex;flex-direction: column;align-items: center;background-color: white;padding-right: 0.2em;padding-left: 0.2em;position: relative;}#sk-container-id-2 div.sk-item {position: relative;z-index: 1;}#sk-container-id-2 div.sk-parallel {display: flex;align-items: stretch;justify-content: center;background-color: white;position: relative;}#sk-container-id-2 div.sk-item::before, #sk-container-id-2 div.sk-parallel-item::before {content: \"\";position: absolute;border-left: 1px solid gray;box-sizing: border-box;top: 0;bottom: 0;left: 50%;z-index: -1;}#sk-container-id-2 div.sk-parallel-item {display: flex;flex-direction: column;z-index: 1;position: relative;background-color: white;}#sk-container-id-2 div.sk-parallel-item:first-child::after {align-self: flex-end;width: 50%;}#sk-container-id-2 div.sk-parallel-item:last-child::after {align-self: flex-start;width: 50%;}#sk-container-id-2 div.sk-parallel-item:only-child::after {width: 0;}#sk-container-id-2 div.sk-dashed-wrapped {border: 1px dashed gray;margin: 0 0.4em 0.5em 0.4em;box-sizing: border-box;padding-bottom: 0.4em;background-color: white;}#sk-container-id-2 div.sk-label label {font-family: monospace;font-weight: bold;display: inline-block;line-height: 1.2em;}#sk-container-id-2 div.sk-label-container {text-align: center;}#sk-container-id-2 div.sk-container {/* jupyter's `normalize.less` sets `[hidden] { display: none; }` but bootstrap.min.css set `[hidden] { display: none !important; }` so we also need the `!important` here to be able to override the default hidden behavior on the sphinx rendered scikit-learn.org. See: https://github.com/scikit-learn/scikit-learn/issues/21755 */display: inline-block !important;position: relative;}#sk-container-id-2 div.sk-text-repr-fallback {display: none;}</style><div id=\"sk-container-id-2\" class=\"sk-top-container\"><div class=\"sk-text-repr-fallback\"><pre>RandomForestClassifier(class_weight=&#x27;balanced&#x27;, max_depth=30, max_features=0.7,\n",
       "                       min_samples_leaf=2, min_samples_split=5,\n",
       "                       n_estimators=2000)</pre><b>In a Jupyter environment, please rerun this cell to show the HTML representation or trust the notebook. <br />On GitHub, the HTML representation is unable to render, please try loading this page with nbviewer.org.</b></div><div class=\"sk-container\" hidden><div class=\"sk-item\"><div class=\"sk-estimator sk-toggleable\"><input class=\"sk-toggleable__control sk-hidden--visually\" id=\"sk-estimator-id-2\" type=\"checkbox\" checked><label for=\"sk-estimator-id-2\" class=\"sk-toggleable__label sk-toggleable__label-arrow\">RandomForestClassifier</label><div class=\"sk-toggleable__content\"><pre>RandomForestClassifier(class_weight=&#x27;balanced&#x27;, max_depth=30, max_features=0.7,\n",
       "                       min_samples_leaf=2, min_samples_split=5,\n",
       "                       n_estimators=2000)</pre></div></div></div></div></div>"
      ],
      "text/plain": [
       "RandomForestClassifier(class_weight='balanced', max_depth=30, max_features=0.7,\n",
       "                       min_samples_leaf=2, min_samples_split=5,\n",
       "                       n_estimators=2000)"
      ]
     },
     "execution_count": 23,
     "metadata": {},
     "output_type": "execute_result"
    }
   ],
   "source": [
    "from sklearn.ensemble import RandomForestClassifier\n",
    "\n",
    "rf_model = RandomForestClassifier(\n",
    "    n_estimators=2000, \n",
    "    min_samples_split=5, \n",
    "    min_samples_leaf=2, \n",
    "    max_features=0.7, \n",
    "    max_depth=30, \n",
    "    class_weight='balanced' \n",
    ")\n",
    "\n",
    "rf_model.fit(X_train_balanced, y_train_balanced)"
   ]
  },
  {
   "cell_type": "markdown",
   "metadata": {},
   "source": [
    "## 6. Test and evaluate the model"
   ]
  },
  {
   "cell_type": "code",
   "execution_count": 24,
   "metadata": {},
   "outputs": [
    {
     "name": "stdout",
     "output_type": "stream",
     "text": [
      "Accuracy: 0.7543\n",
      "Precision (Weighted): 0.7784\n",
      "Recall (Weighted): 0.7543\n",
      "F1 Score (Weighted): 0.7547\n",
      "\n",
      "Confusion Matrix\n",
      "[[490   1   2 ...   3   0   3]\n",
      " [  5  27   0 ...   1   0   1]\n",
      " [  5   0  31 ...   0   0   0]\n",
      " ...\n",
      " [ 16   0   0 ...  16   0   0]\n",
      " [  2   0   0 ...   0  37   0]\n",
      " [  3   0   0 ...   0   0  25]]\n",
      "\n",
      "Classification Report:\n",
      "               precision    recall  f1-score   support\n",
      "\n",
      "    Class -1       0.52      0.82      0.64       600\n",
      "     Class 0       0.87      0.68      0.76        40\n",
      "     Class 1       0.86      0.78      0.82        40\n",
      "     Class 2       0.90      0.88      0.89        40\n",
      "     Class 3       0.86      0.78      0.82        40\n",
      "     Class 4       0.79      0.78      0.78        40\n",
      "     Class 5       0.94      0.75      0.83        40\n",
      "     Class 6       0.82      0.90      0.86        40\n",
      "     Class 7       0.82      0.93      0.87        40\n",
      "     Class 8       0.82      0.78      0.79        40\n",
      "     Class 9       0.83      0.72      0.77        40\n",
      "    Class 10       0.88      0.53      0.66        40\n",
      "    Class 11       0.82      0.80      0.81        40\n",
      "    Class 12       0.85      0.85      0.85        40\n",
      "    Class 13       0.82      0.35      0.49        40\n",
      "    Class 14       0.81      0.55      0.66        40\n",
      "    Class 15       0.82      0.70      0.76        40\n",
      "    Class 16       0.90      0.68      0.77        40\n",
      "    Class 17       0.82      0.57      0.68        40\n",
      "    Class 18       1.00      0.88      0.93        40\n",
      "    Class 19       0.84      0.90      0.87        40\n",
      "    Class 20       0.88      0.93      0.90        40\n",
      "    Class 21       0.89      0.62      0.74        40\n",
      "    Class 22       0.71      0.68      0.69        40\n",
      "    Class 23       0.79      0.82      0.80        40\n",
      "    Class 24       0.47      0.45      0.46        40\n",
      "    Class 25       0.94      0.85      0.89        40\n",
      "    Class 26       0.85      0.97      0.91        40\n",
      "    Class 27       0.79      0.78      0.78        40\n",
      "    Class 28       0.86      0.78      0.82        40\n",
      "    Class 29       0.71      0.75      0.73        40\n",
      "    Class 30       0.80      0.80      0.80        40\n",
      "    Class 31       0.84      0.78      0.81        40\n",
      "    Class 32       0.83      0.47      0.60        40\n",
      "    Class 33       0.86      0.80      0.83        40\n",
      "    Class 34       0.62      0.65      0.63        40\n",
      "    Class 35       0.81      0.75      0.78        40\n",
      "    Class 36       0.85      0.82      0.84        40\n",
      "    Class 37       0.90      0.47      0.62        40\n",
      "    Class 38       0.71      0.75      0.73        40\n",
      "    Class 39       0.85      0.72      0.78        40\n",
      "    Class 40       0.86      0.62      0.72        40\n",
      "    Class 41       0.89      0.85      0.87        40\n",
      "    Class 42       0.74      0.78      0.76        40\n",
      "    Class 43       0.79      0.95      0.86        40\n",
      "    Class 44       0.90      0.93      0.91        40\n",
      "    Class 45       0.68      0.70      0.69        40\n",
      "    Class 46       1.00      0.47      0.64        40\n",
      "    Class 47       0.87      0.68      0.76        40\n",
      "    Class 48       0.92      0.82      0.87        40\n",
      "    Class 49       0.88      0.88      0.88        40\n",
      "    Class 50       0.78      0.80      0.79        40\n",
      "    Class 51       0.57      0.42      0.49        40\n",
      "    Class 52       0.89      0.85      0.87        40\n",
      "    Class 53       0.89      0.78      0.83        40\n",
      "    Class 54       0.95      0.88      0.91        40\n",
      "    Class 55       0.60      0.30      0.40        40\n",
      "    Class 56       0.84      0.90      0.87        40\n",
      "    Class 57       0.92      0.82      0.87        40\n",
      "    Class 58       0.97      0.97      0.97        40\n",
      "    Class 59       0.87      0.85      0.86        40\n",
      "    Class 60       0.94      0.78      0.85        40\n",
      "    Class 61       0.85      0.85      0.85        40\n",
      "    Class 62       0.80      0.80      0.80        40\n",
      "    Class 63       0.69      0.55      0.61        40\n",
      "    Class 64       0.86      0.62      0.72        40\n",
      "    Class 65       0.74      0.62      0.68        40\n",
      "    Class 66       0.78      0.88      0.82        40\n",
      "    Class 67       0.91      0.75      0.82        40\n",
      "    Class 68       0.58      0.45      0.51        40\n",
      "    Class 69       0.79      0.57      0.67        40\n",
      "    Class 70       0.85      0.97      0.91        40\n",
      "    Class 71       0.84      0.78      0.81        40\n",
      "    Class 72       0.80      0.60      0.69        40\n",
      "    Class 73       0.88      0.90      0.89        40\n",
      "    Class 74       0.55      0.70      0.62        40\n",
      "    Class 75       0.95      0.90      0.92        40\n",
      "    Class 76       1.00      0.90      0.95        40\n",
      "    Class 77       0.67      0.55      0.60        40\n",
      "    Class 78       0.70      0.78      0.74        40\n",
      "    Class 79       0.75      0.75      0.75        40\n",
      "    Class 80       0.84      0.93      0.88        40\n",
      "    Class 81       0.90      0.90      0.90        40\n",
      "    Class 82       0.76      0.55      0.64        40\n",
      "    Class 83       0.79      0.78      0.78        40\n",
      "    Class 84       0.80      0.82      0.81        40\n",
      "    Class 85       0.97      0.78      0.86        40\n",
      "    Class 86       0.88      0.90      0.89        40\n",
      "    Class 87       0.79      0.78      0.78        40\n",
      "    Class 88       0.79      0.85      0.82        40\n",
      "    Class 89       0.68      0.68      0.68        40\n",
      "    Class 90       0.73      0.82      0.78        40\n",
      "    Class 91       0.84      0.65      0.73        40\n",
      "    Class 92       0.67      0.40      0.50        40\n",
      "    Class 93       0.90      0.93      0.91        40\n",
      "    Class 94       0.62      0.62      0.62        40\n",
      "\n",
      "    accuracy                           0.75      4400\n",
      "   macro avg       0.82      0.75      0.77      4400\n",
      "weighted avg       0.78      0.75      0.75      4400\n",
      "\n"
     ]
    }
   ],
   "source": [
    "from sklearn.metrics import accuracy_score, auc, confusion_matrix, precision_score, precision_recall_curve, roc_curve, recall_score, f1_score, classification_report\n",
    "\n",
    "y_pred = rf_model.predict(X_test)\n",
    "\n",
    "# calculate Accuracy, Precison, Recall, F1 Score\n",
    "accuracy = accuracy_score(y_test, y_pred)\n",
    "precision = precision_score(y_test, y_pred, average = 'weighted')\n",
    "recall = recall_score(y_test, y_pred, average = 'weighted')\n",
    "f1 = f1_score(y_test, y_pred, average='weighted')\n",
    "\n",
    "# calculate Confusion Matrix, ROC AUC, PR AUC \n",
    "conf_matrix = confusion_matrix(y_test, y_pred)\n",
    "\n",
    "# create Classification Report\n",
    "class_report = classification_report(y_test, y_pred, target_names=[f'Class {i}' for i in range(-1, 95)])\n",
    "\n",
    "# print results\n",
    "print(f\"Accuracy: {accuracy:.4f}\")\n",
    "print(f\"Precision (Weighted): {precision:.4f}\")\n",
    "print(f\"Recall (Weighted): {recall:.4f}\")\n",
    "print(f\"F1 Score (Weighted): {f1:.4f}\")\n",
    "\n",
    "print(f\"\\nConfusion Matrix\\n{conf_matrix}\")\n",
    "print(\"\\nClassification Report:\\n\", class_report)"
   ]
  },
  {
   "cell_type": "code",
   "execution_count": 25,
   "metadata": {},
   "outputs": [
    {
     "name": "stdout",
     "output_type": "stream",
     "text": [
      "\n",
      "Original Training Data Distribution:\n",
      "Label -1 count: 2400\n",
      "Other labels count: 15200\n",
      "\n",
      "Balanced Training Data Distribution:\n",
      "Label -1 count: 15200\n",
      "Other labels count: 15200\n",
      "\n",
      "Test Data Distribution:\n",
      "Label -1 count: 600\n",
      "Other labels count: 3800\n"
     ]
    }
   ],
   "source": [
    "# 검증 코드: 데이터 분포 확인\n",
    "print(\"\\nOriginal Training Data Distribution:\")\n",
    "print(f\"Label -1 count: {sum(y_train == -1)}\")\n",
    "print(f\"Other labels count: {sum(y_train != -1)}\")\n",
    "\n",
    "print(\"\\nBalanced Training Data Distribution:\")\n",
    "print(f\"Label -1 count: {sum(y_train_balanced == -1)}\")\n",
    "print(f\"Other labels count: {sum(y_train_balanced != -1)}\")\n",
    "\n",
    "print(\"\\nTest Data Distribution:\")\n",
    "print(f\"Label -1 count: {sum(y_test == -1)}\")\n",
    "print(f\"Other labels count: {sum(y_test != -1)}\")\n"
   ]
  }
 ],
 "metadata": {
  "kernelspec": {
   "display_name": "myenv",
   "language": "python",
   "name": "myenv"
  },
  "language_info": {
   "codemirror_mode": {
    "name": "ipython",
    "version": 3
   },
   "file_extension": ".py",
   "mimetype": "text/x-python",
   "name": "python",
   "nbconvert_exporter": "python",
   "pygments_lexer": "ipython3",
   "version": "3.11.5"
  }
 },
 "nbformat": 4,
 "nbformat_minor": 2
}
