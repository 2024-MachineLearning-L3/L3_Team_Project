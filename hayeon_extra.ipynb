{
 "cells": [
  {
   "cell_type": "markdown",
   "id": "b29a31cf",
   "metadata": {},
   "source": [
    "## 1. 데이터 로드 "
   ]
  },
  {
   "cell_type": "code",
   "execution_count": 2,
   "id": "80916690",
   "metadata": {},
   "outputs": [
    {
     "name": "stdout",
     "output_type": "stream",
     "text": [
      "Loaded 15160 instances.\n",
      "Labels distribution: Monitored=7677, Unmonitored=7483\n"
     ]
    }
   ],
   "source": [
    "import os\n",
    "import numpy as np\n",
    "\n",
    "def parse_cell_file(content):\n",
    "    \"\"\"\n",
    "    Parse the content of a .cell file into numerical features.\n",
    "    Each line should contain exactly 3 columns: [timestamp, direction, size].\n",
    "    :param content: Raw content of a .cell file as a string\n",
    "    :return: Parsed data as a NumPy array\n",
    "    \"\"\"\n",
    "    features = []\n",
    "    for line in content.strip().splitlines():  # Support Windows (CRLF) and UNIX (LF) line endings\n",
    "        if not line.strip():  # Skip empty lines\n",
    "            continue\n",
    "        try:\n",
    "            # Split the line into 3 parts\n",
    "            timestamp, direction, size = map(float, line.split())\n",
    "            # Combine size with direction for signed size\n",
    "            signed_size = size if direction > 0 else -size\n",
    "            features.append([timestamp, signed_size])\n",
    "        except ValueError:\n",
    "            # Skip lines that cannot be parsed into 3 float values\n",
    "            print(f\"Skipping invalid line: {line}\")\n",
    "    return np.array(features)\n",
    "\n",
    "def load_cell_files(mon_folder, unmon_folder):\n",
    "    \"\"\"\n",
    "    Load .cell files from 'mon' and 'unmon' folders and label them.\n",
    "    :param mon_folder: Path to the folder containing monitored .cell files\n",
    "    :param unmon_folder: Path to the folder containing unmonitored .cell files\n",
    "    :return: X_raw (list of instances), y (list of labels)\n",
    "    \"\"\"\n",
    "    instances = []  # To store all instances\n",
    "    labels = []     # To store corresponding labels (1 for monitored, 0 for unmonitored)\n",
    "\n",
    "    # Load monitored .cell files\n",
    "    for file in os.listdir(mon_folder):\n",
    "        if file.endswith('.cell'):\n",
    "            file_path = os.path.join(mon_folder, file)\n",
    "            with open(file_path, 'r') as f:\n",
    "                instance = parse_cell_file(f.read())\n",
    "                if instance.size > 0:  # Add instance only if valid data exists\n",
    "                    instances.append(instance)\n",
    "                    labels.append(1)  # Label for monitored\n",
    "\n",
    "    # Load unmonitored .cell files\n",
    "    for file in os.listdir(unmon_folder):\n",
    "        if file.endswith('.cell'):\n",
    "            file_path = os.path.join(unmon_folder, file)\n",
    "            with open(file_path, 'r') as f:\n",
    "                instance = parse_cell_file(f.read())\n",
    "                if instance.size > 0:  # Add instance only if valid data exists\n",
    "                    instances.append(instance)\n",
    "                    labels.append(0)  # Label for unmonitored\n",
    "\n",
    "    return np.array(instances, dtype=object), np.array(labels)\n",
    "\n",
    "# Define paths to the 'mon' and 'unmon' folders\n",
    "mon_folder_path = './mon'\n",
    "unmon_folder_path = './unmon'\n",
    "\n",
    "# Load data\n",
    "X_raw, y = load_cell_files(mon_folder_path, unmon_folder_path)\n",
    "\n",
    "print(f\"Loaded {len(X_raw)} instances.\")\n",
    "print(f\"Labels distribution: Monitored={np.sum(y)}, Unmonitored={len(y) - np.sum(y)}\")\n"
   ]
  },
  {
   "cell_type": "code",
   "execution_count": 12,
   "id": "14597ba5",
   "metadata": {},
   "outputs": [
    {
     "name": "stdout",
     "output_type": "stream",
     "text": [
      "Feature matrix shape: (15160, 9)\n",
      "Label vector shape: (15160,)\n"
     ]
    }
   ],
   "source": [
    "import numpy as np\n",
    "\n",
    "def create_features(X_raw):\n",
    "    \"\"\"\n",
    "    Extract features from raw data.\n",
    "    Each instance in X_raw is a NumPy array with columns [timestamp, signed_size].\n",
    "    :param X_raw: List of NumPy arrays, each representing a .cell file's raw content\n",
    "    :return: Feature matrix as a NumPy array\n",
    "    \"\"\"\n",
    "    feature_matrix = []\n",
    "    \n",
    "    for instance in X_raw:\n",
    "        # Extract timestamps and signed_sizes\n",
    "        timestamps = instance[:, 0]\n",
    "        signed_sizes = instance[:, 1]\n",
    "        \n",
    "        # 기본 Feature 계산\n",
    "        packet_size_direction = np.sum(signed_sizes)  # Feature 1\n",
    "        cumulative_packet_size = np.sum(np.abs(signed_sizes))  # Feature 2\n",
    "        burst_lengths = len(signed_sizes)  # Feature 3\n",
    "        num_incoming_packets = np.sum(signed_sizes > 0)  # Feature 4\n",
    "        ratio_incoming_packets = (\n",
    "            num_incoming_packets / burst_lengths if burst_lengths > 0 else 0\n",
    "        )  # Feature 5\n",
    "        num_outgoing_packets = np.sum(signed_sizes < 0)  # Feature 6\n",
    "        total_packet_count = burst_lengths  # Feature 7\n",
    "\n",
    "        # Mean Time Intervals 추가 (Feature 9)\n",
    "        if len(timestamps) > 1:\n",
    "            time_intervals = np.diff(timestamps)\n",
    "            mean_time_intervals = np.mean(time_intervals)\n",
    "        else:\n",
    "            mean_time_intervals = 0\n",
    "\n",
    "        # Feature 벡터 생성\n",
    "        feature_vector = [\n",
    "            packet_size_direction,\n",
    "            np.mean(timestamps) if len(timestamps) > 0 else 0,  # Feature 8: 평균 타임스탬프\n",
    "            cumulative_packet_size,\n",
    "            burst_lengths,\n",
    "            num_incoming_packets,\n",
    "            ratio_incoming_packets,\n",
    "            num_outgoing_packets,\n",
    "            total_packet_count,\n",
    "            mean_time_intervals  # 추가된 Feature\n",
    "        ]\n",
    "        feature_matrix.append(feature_vector)\n",
    "    \n",
    "    return np.array(feature_matrix)\n",
    "X = create_features(X_raw)\n",
    "\n",
    "# 출력\n",
    "print(f\"Feature matrix shape: {X.shape}\")\n",
    "print(f\"Label vector shape: {y.shape}\")"
   ]
  },
  {
   "cell_type": "code",
   "execution_count": null,
   "id": "3c30a2d4",
   "metadata": {},
   "outputs": [],
   "source": []
  }
 ],
 "metadata": {
  "kernelspec": {
   "display_name": "Python 3 (ipykernel)",
   "language": "python",
   "name": "python3"
  },
  "language_info": {
   "codemirror_mode": {
    "name": "ipython",
    "version": 3
   },
   "file_extension": ".py",
   "mimetype": "text/x-python",
   "name": "python",
   "nbconvert_exporter": "python",
   "pygments_lexer": "ipython3",
   "version": "3.9.13"
  }
 },
 "nbformat": 4,
 "nbformat_minor": 5
}
